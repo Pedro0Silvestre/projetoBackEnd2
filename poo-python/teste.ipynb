{
 "cells": [
  {
   "cell_type": "markdown",
   "id": "cd858cae",
   "metadata": {},
   "source": [
    "##Python orientado a objetos"
   ]
  },
  {
   "cell_type": "markdown",
   "id": "ec39e07d",
   "metadata": {},
   "source": [
    "Método construtor "
   ]
  },
  {
   "cell_type": "code",
   "execution_count": 7,
   "id": "7588efd0",
   "metadata": {},
   "outputs": [],
   "source": [
    "class Employee:\n",
    "    def __init__(self, name, age):\n",
    "        self.name =  name\n",
    "        self.age = age"
   ]
  },
  {
   "cell_type": "markdown",
   "id": "8802c723",
   "metadata": {},
   "source": [
    "Criando um objeto da classe Employee"
   ]
  },
  {
   "cell_type": "code",
   "execution_count": 8,
   "id": "c169bf4f",
   "metadata": {},
   "outputs": [],
   "source": [
    "emp = Employee('teste', 32)"
   ]
  },
  {
   "cell_type": "code",
   "execution_count": 10,
   "id": "6756e278",
   "metadata": {},
   "outputs": [
    {
     "data": {
      "text/plain": [
       "<__main__.Employee at 0x1cf8feb4690>"
      ]
     },
     "execution_count": 10,
     "metadata": {},
     "output_type": "execute_result"
    }
   ],
   "source": [
    "emp"
   ]
  },
  {
   "cell_type": "code",
   "execution_count": 9,
   "id": "bf00a87d",
   "metadata": {},
   "outputs": [
    {
     "name": "stdout",
     "output_type": "stream",
     "text": [
      "teste\n"
     ]
    },
    {
     "data": {
      "text/plain": [
       "32"
      ]
     },
     "execution_count": 9,
     "metadata": {},
     "output_type": "execute_result"
    }
   ],
   "source": [
    "print(emp.name)\n",
    "emp.age"
   ]
  },
  {
   "cell_type": "markdown",
   "id": "1efd2086",
   "metadata": {},
   "source": [
    "Os atributos criados em .init() são chamados de atributos de instância. O valor de um atributo de instância é específico para uma instância específica da classe. Todos os objetos Dog têm um nome e uma idade, mas os valores dos atributos name e age variam dependendo da instância Dog."
   ]
  },
  {
   "cell_type": "markdown",
   "id": "b3c51af0",
   "metadata": {},
   "source": [
    "Por outro lado, atributos de classe são atributos que possuem o mesmo valor para todas as instâncias de classe. Você pode definir um atributo de classe atribuindo um valor a um nome de variável fora de .init()."
   ]
  },
  {
   "cell_type": "code",
   "execution_count": 12,
   "id": "8cc66be5",
   "metadata": {},
   "outputs": [],
   "source": [
    "# dog.py\n",
    "\n",
    "class Dog:\n",
    "    species = \"Canis familiaris\"\n",
    "\n",
    "    def __init__(self, name, age):\n",
    "        self.name = name\n",
    "        self.age = age\n",
    "    \n",
    "    def __str__(self):\n",
    "        return f\"dog: {self.name} age: {self.age}\""
   ]
  },
  {
   "cell_type": "markdown",
   "id": "15032e42",
   "metadata": {},
   "source": [
    "Método toString\n",
    "def __str__(self):\n",
    "        return f\"dog: {self.name} age: {self.age}\"\n",
    "\n",
    "define a formatação de uma intancia de uma classe"
   ]
  },
  {
   "cell_type": "code",
   "execution_count": 13,
   "id": "9217480f",
   "metadata": {},
   "outputs": [
    {
     "name": "stdout",
     "output_type": "stream",
     "text": [
      "dog: Bidu age: 10\n"
     ]
    }
   ],
   "source": [
    "dog1 = Dog(\"Bidu\",10)\n",
    "print(dog1)"
   ]
  }
 ],
 "metadata": {
  "kernelspec": {
   "display_name": ".venv",
   "language": "python",
   "name": "python3"
  },
  "language_info": {
   "codemirror_mode": {
    "name": "ipython",
    "version": 3
   },
   "file_extension": ".py",
   "mimetype": "text/x-python",
   "name": "python",
   "nbconvert_exporter": "python",
   "pygments_lexer": "ipython3",
   "version": "3.11.9"
  }
 },
 "nbformat": 4,
 "nbformat_minor": 5
}
